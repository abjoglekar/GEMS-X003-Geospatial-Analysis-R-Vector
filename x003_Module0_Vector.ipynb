{
 "cells": [
  {
   "cell_type": "markdown",
   "id": "bf4ea11e-11ba-494b-8153-07e494d52e16",
   "metadata": {},
   "source": [
    "<img src=\"images/GEMS Informatics Learning.png\" width=600 alt=\"GEMS Learning Logo\" title=\"GEMS Learning\" />"
   ]
  },
  {
   "cell_type": "markdown",
   "id": "16205a09-956c-495e-b12e-0c52d05e0dc3",
   "metadata": {
    "tags": []
   },
   "source": [
    "# **Geocomputation with Vector Data in R**\n",
    "\n",
    "**Instructors:**  \n",
    "Ali Joglekar, University of Minnesota (joglekar@umn.edu)  \n",
    "Yuan Chai, University of Minnesota (chaix026@umn.edu)  "
   ]
  },
  {
   "cell_type": "markdown",
   "id": "9f0143a2-48de-41a3-92ad-82cca1b57cb2",
   "metadata": {
    "tags": []
   },
   "source": [
    "---\n",
    "\n",
    "## Method of Delivery\n",
    "- Workshop text, images and R code are all contained within a Jupyter Notebook hosted on the GEMS Informatics Platform. You do not need to have R or RStudio installed on your machine to participate\n",
    "- All needed data and scripts are in the following github repo: [https://github.com/abjoglekar/GEMS-X003-Geospatial-Analysis-R-Vector](https://github.com/abjoglekar/GEMS-X003-Geospatial-Analysis-R-Vector)\n",
    "- A recording of the workshop will be posted on Canvas\n",
    "- Please download any desired materials, as we cannot guarantee access to the Canvas course beyond 3 months.  "
   ]
  },
  {
   "cell_type": "markdown",
   "id": "025e9527-03e9-45e5-92ec-4998c80766fa",
   "metadata": {
    "tags": []
   },
   "source": [
    "## Module Outline\n",
    "- [Geocomputation Intro](#Geocomp)  \n",
    "- [Vector Data Review](#Vector)  \n",
    "- [Attribute Data Operations](#Attribute)  \n",
    "  - [Exercise 1](#Ex1)\n",
    "- [Spatial Data Operations](#Spatial) \n",
    "  - [Exercise 2](#Ex2)\n",
    "- [Geometry Operations](#Geometry)  \n",
    "  - [Exercise 3](#Ex3)"
   ]
  },
  {
   "cell_type": "markdown",
   "id": "8ca9fb78-5d65-45b5-ba52-952bc1c4f0a7",
   "metadata": {
    "tags": []
   },
   "source": [
    "## Setup\n",
    "\n",
    "### Fetch Script & Data\n",
    "1. Login to GEMS Platform at [https://gems.agroinformatics.org/](https://gems.agroinformatics.org/)\n",
    "   GEMS Platform uses Globus to authenticate your account, so if your institution is already linked to Globus (for example, University of Minnesota and many other universities), you can search and select your institution from the list and use your institutional account to log into GEMS Platform. Alternatively, you can log in using Google or ORCID iD, or create your own Globus account to log in.\n",
    "   \n",
    "2. Once logged in, click `Analyze > JupyterLab` from the homepage\n",
    "\n",
    "3. Open a bash terminal by clicking ‘Terminal’ icon in the Launcher OR by clicking `File > New > Terminal` \n",
    "\n",
    "4. In bash terminal, create directories for this workshop\n",
    "\n",
    "    ```bash\n",
    "    mkdir classes   #if you don't already have this directory created\n",
    "    cd classes  \n",
    "    mkdir GEMSX003  #if you don't already have this directory created\n",
    "    cd GEMSX003\n",
    "    ```\n",
    "\n",
    "\n",
    "5. Clone repository for this class\n",
    "\n",
    "    ```bash\n",
    "    git clone https://github.com/abjoglekar/GEMS-X003-Geospatial-Analysis-R-Vector.git\n",
    "    ```\n",
    "  \n",
    "  \n",
    "### Load R Libraries"
   ]
  },
  {
   "cell_type": "code",
   "execution_count": null,
   "id": "09a61e31-69a1-4631-a05e-8b7dd92d1e43",
   "metadata": {
    "tags": []
   },
   "outputs": [],
   "source": [
    "# Install and load packages needed for this workshop (\n",
    "\n",
    "packages_to_load <- c(\"sf\", \"terra\", \"spData\", \"tmap\")\n",
    "\n",
    "for ( package in packages_to_load ) {\n",
    "    # Check if package is already installed, if not, install and load the package\n",
    "    if (!require(package, character.only=T, quietly=T, warn.conflicts=F)) {\n",
    "        install.packages(package)\n",
    "        suppressPackageStartupMessages(library(package, character.only=T, quietly=T, warn.conflicts=F))\n",
    "    }\n",
    "}"
   ]
  },
  {
   "cell_type": "markdown",
   "id": "7027df3e-2d86-4aad-83ee-f75dd19769d0",
   "metadata": {},
   "source": [
    "<details>\n",
    "    \n",
    "<summary><span style='color:Green'> Note: For your own work, once packages are installed, it is recommended to just use library() to load your packages  </span></summary>\n",
    "\n",
    "\n",
    "```r\n",
    "# General dataframe libraries\n",
    "library(rio)\n",
    "\n",
    "# Spatial data libraries\n",
    "library(sf)\n",
    "library(spData)\n",
    "\n",
    "# Plotting libraries\n",
    "library(tmap)\n",
    "```\n",
    "          \n",
    "</details>\n"
   ]
  },
  {
   "cell_type": "markdown",
   "id": "ce6aefb3-b0b3-433f-8f1d-ad4e71df7e06",
   "metadata": {},
   "source": [
    "If you run into errors trying to install `tmap`, please refer to the [R troubleshooting.pdf](https://canvas.umn.edu/courses/343084/files/31161241?module_item_id=8966858) guide on Canvas."
   ]
  },
  {
   "cell_type": "markdown",
   "id": "6626ad96-4ded-476c-aef8-7c7f955a0d33",
   "metadata": {},
   "source": [
    "### Data\n",
    "\n",
    "Your expercises will draw on three vector datasets from the Minnesota Geospatial Commons, which have been downloaded, cleaned, transformed and saved in the directory `./data/MN` for this workshop.\n",
    "1. \\[POINT\\] Minnesota Six-Inch Soil Temperature: https://gisdata.mn.gov/dataset/geos-soil-temp-network\n",
    "2. \\[LINES\\] Stream Routes - Major River Centerlines: https://gisdata.mn.gov/dataset/water-major-river-centerlines\n",
    "3. \\[POLYGONS\\] Groundwater Provinces of Minnesota 2021: https://gisdata.mn.gov/dataset/geos-groundwater-provinces-mn\n",
    "\n",
    "\n",
    "### Attribution\n",
    "\n",
    "The following material draws heavily from Robin Lovelace's [Geocomputation with R](https://geocompr.robinlovelace.net/index.html) textbook.\n",
    "\n",
    "---"
   ]
  },
  {
   "cell_type": "markdown",
   "id": "dd64b1cd-762e-4b71-841e-160b2cdb5dc6",
   "metadata": {
    "tags": []
   },
   "source": [
    "<a id=\"Geocomp\"></a>\n",
    "## **What is Geocomputation?**\n",
    "\n",
    "*Geocomputation* is a young term, dating back to the first conference on the subject in 1996, simply defined as the process of \n",
    "\"applying computing technology to geographical problems\" (Rees and Turton 1998)\n",
    "\n",
    "- Emphasis on \"creative and experimental” applications\" (Longley et al. 1998) \n",
    "- Using various different types of geodata and developing relevant geo-tools within the overall context of a ‘scientific’ approach (Openshaw and Abrahart 2000)"
   ]
  },
  {
   "cell_type": "markdown",
   "id": "8a68c1a5-3b55-4e6f-b808-58d0a03ae3e4",
   "metadata": {
    "tags": []
   },
   "source": [
    "<a id=\"Vector\"></a>\n",
    "## **Vector Data Review**\n",
    "\n",
    "Representation of the world using points, lines, and polygons\n",
    "\n",
    "- Point: a precise location in space (e.g., weather stations)\n",
    "- Line: a sequential collection of connected points (e.g., roads)\n",
    "- Polygon: a region enclosed by lines (e.g., countries)"
   ]
  },
  {
   "cell_type": "code",
   "execution_count": null,
   "id": "eeb9a612-4360-44d1-9a02-1def239fdeb6",
   "metadata": {},
   "outputs": [],
   "source": [
    "px <- c(5, 7, 8, 9, 8, 7, 6) \n",
    "py <- c(7, 3, 4, 8, 9, 15, 14) \n",
    "plot(px, py, type=\"n\", axes=F, xlab = '', ylab = '') \n",
    "polygon(px, py, col = \"khaki1\")\n",
    "points(c(6, 9, 8, 8.5), c(9, 14, 8, 9), pch=20, col = \"peachpuff4\", lwd = 3)\n",
    "lines(c(5, 6, 7, 8), c(5, 6,10, 11), col = \"steelblue1\",  lwd = 3)\n",
    "lines(c(8, 9), c(14, 12), col = \"dark green\", lwd = 3)"
   ]
  },
  {
   "cell_type": "markdown",
   "id": "7082449d-5e2d-4cfe-8101-56615912733d",
   "metadata": {},
   "source": [
    "Vector data in R well supported by `sf` class, which extends `data.frame`\n",
    "\n",
    "- `sf` objects represents points, lines and polygons as discrete entities in space\n",
    "\n",
    "- `sf` objects have one column per attribute variable and one row per observation, or feature \n",
    "\n",
    "- `sf` objects have special column that contains geometry data \n",
    "\n",
    "- `sf` geometry column is a list column -- can contain multiple geographic entities per row\n",
    "\n",
    "- `sf` enables full power of R’s data analysis capabilities to be unleashed on geographic data"
   ]
  },
  {
   "cell_type": "markdown",
   "id": "7442a96f-02a0-4eb1-b883-af9df6f8dce0",
   "metadata": {
    "tags": []
   },
   "source": [
    "<a id=\"Attribute\"></a>\n",
    "## **Attribute Data Operations**\n",
    "\n",
    "Manipulating geographic objects based on attributes \n",
    "\n",
    "- subset\n",
    "- aggregation\n",
    "- merge\n",
    "\n",
    "### Vector attribute manipulation: subset\n",
    "\n",
    "Base R subsetting functions include `[` and `subset()`, both of which can be used with `sf` objects\n",
    "\n",
    "The following code chunk creates a new object containing nations whose surface area is greater than \n",
    "1 million km2 and smaller than 5 million km2:"
   ]
  },
  {
   "cell_type": "code",
   "execution_count": null,
   "id": "93c81dd1-bae7-4703-8b15-5455b99721c2",
   "metadata": {},
   "outputs": [],
   "source": [
    "world"
   ]
  },
  {
   "cell_type": "code",
   "execution_count": null,
   "id": "b71834e9-857a-4bd4-85a9-5359f89a1b03",
   "metadata": {},
   "outputs": [],
   "source": [
    "mid_countries = world[world$area_km2 > 1000000 & world$area_km2 < 5000000, ]\n",
    "mid_countries"
   ]
  },
  {
   "cell_type": "markdown",
   "id": "6192eaeb-cdd6-424e-bce8-84ac5a567bb7",
   "metadata": {},
   "source": [
    "And then maps the two objects together using `tmap`"
   ]
  },
  {
   "cell_type": "code",
   "execution_count": null,
   "id": "d1830c3d-b056-4f57-8f75-3981b1d04135",
   "metadata": {},
   "outputs": [],
   "source": [
    "p_cntr1 = tm_shape(world) + tm_polygons(col = \"iso_a2\", legend.show = FALSE) +\n",
    "  tm_layout(main.title = \"All Countries\", main.title.size = 1,\n",
    "            bg.color = \"lightblue\")\n",
    "p_cntr2 = tm_shape(world) + tm_polygons(col = \"white\", alpha = 0.75) +\n",
    "  tm_shape(mid_countries) + tm_polygons(col = \"iso_a2\", legend.show = FALSE) +\n",
    "  tm_layout(main.title = \"Mid-Sized Countries\", main.title.size = 1,\n",
    "            bg.color = \"lightblue\")\n",
    "tmap_arrange(p_cntr1, p_cntr2, ncol = 1)"
   ]
  },
  {
   "cell_type": "markdown",
   "id": "300a2c54-c4eb-4a8c-a7c7-6d21099b51f6",
   "metadata": {},
   "source": [
    "### Vector attribute manipulation: aggregation\n",
    "\n",
    "Aggregation operations summarize datasets by a ‘grouping variable’, typically an attribute column\n",
    "\n",
    "The following code chunk calculates the number of people per continent based on country-level data (one row per country):"
   ]
  },
  {
   "cell_type": "code",
   "execution_count": null,
   "id": "861d92df-25a9-4c57-bbb9-fff7797bafa1",
   "metadata": {},
   "outputs": [],
   "source": [
    "world_agg = aggregate(world[\"pop\"], by = list(world$continent),\n",
    "                       FUN = sum, na.rm = TRUE)"
   ]
  },
  {
   "cell_type": "code",
   "execution_count": null,
   "id": "b885fd31-7904-4f2f-a4fd-604eeba0c700",
   "metadata": {},
   "outputs": [],
   "source": [
    "p_pop1 = tm_shape(world) + \n",
    "  tm_polygons(col = \"pop\", title = \"Population\", style = \"jenks\") +\n",
    "  tm_layout(main.title = \"Population by Country\", main.title.size = 1,\n",
    "            bg.color = \"lightblue\")\n",
    "p_pop2 = tm_shape(world_agg) + \n",
    "  tm_polygons(col = \"pop\", title = \"Population\", style = \"jenks\") +\n",
    "  tm_layout(main.title = \"Population by Continent\", main.title.size = 1,\n",
    "            bg.color = \"lightblue\") + \n",
    "  tmap_options(check.and.fix = TRUE)\n",
    "tmap_arrange(p_pop1, p_pop2, ncol = 1)"
   ]
  },
  {
   "cell_type": "markdown",
   "id": "e9a1d02c-0aaf-4268-a646-44cfe34619e0",
   "metadata": {},
   "source": [
    "### Vector attribute manipulation: merge\n",
    "\n",
    "Merge, or join, operations combine data from different sources based on a shared ‘key’ variable\n",
    "\n",
    "The following code chunk takes an `sf` object (`world`) as the first \n",
    "argument and adds columns to it from a separate `data.frame` (`coffee_data`) specified as the second argument):"
   ]
  },
  {
   "cell_type": "code",
   "execution_count": null,
   "id": "72c532ce-5331-41d6-8d90-2a1e510775af",
   "metadata": {},
   "outputs": [],
   "source": [
    "head(world)\n",
    "\n",
    "head(coffee_data)"
   ]
  },
  {
   "cell_type": "code",
   "execution_count": null,
   "id": "9fda7a00-b4d7-4d0b-b16a-fde3e4576031",
   "metadata": {},
   "outputs": [],
   "source": [
    "world_coffee = merge(world, coffee_data, by = \"name_long\")\n",
    "world_coffee"
   ]
  },
  {
   "cell_type": "code",
   "execution_count": null,
   "id": "e0233602-7550-4c46-8904-beae522e9de1",
   "metadata": {},
   "outputs": [],
   "source": [
    "tm_shape(world) + tm_polygons(col = \"white\") +\n",
    "  tm_shape(world_coffee) + \n",
    "  tm_polygons(col = \"coffee_production_2017\", title = \"1,000 60kg bags\", style = \"jenks\") +\n",
    "  tm_layout(main.title = \"2017 Coffee Production\", main.title.size = 1,\n",
    "            bg.color = \"lightblue\")"
   ]
  },
  {
   "cell_type": "markdown",
   "id": "3d574551-e018-401c-906c-b1e7ce23a07f",
   "metadata": {},
   "source": [
    "In the majority of cases where variable names are not the same, you have two options:\n",
    "\n",
    "1. Rename key variables in one of the objects so they match\n",
    "2. Use the `by` argument to specify the joining variables\n",
    "\n",
    "```r\n",
    "sf2 <- merge(sf1, dat1, by = \"var\")\n",
    "sf2 <- merge(sf1, dat1, by.x = \"var1\", by.y = \"var2\")\n",
    "```\n",
    "\n",
    "Types of merges \n",
    "\n",
    "- Inner join preserves matching features from both datasets\n",
    "\n",
    "```r\n",
    "sf2 <- merge(sf1, dat1, by.x = \"var1\", by.y = \"var2\", all = F)\n",
    "```\n",
    "\n",
    "- Left (outer) join preserves features from the first dataset\n",
    "\n",
    "```r\n",
    "sf2 <- merge(sf1, dat1, by.x = \"var1\", by.y = \"var2\", all.x = T)\n",
    "```\n",
    "\n",
    "- Right (outer) join preserves features from the second dataset\n",
    "\n",
    "```r\n",
    "sf2 <- merge(sf1, dat1, by.x = \"var1\", by.y = \"var2\", all.y = T)\n",
    "```\n",
    "\n",
    "- Outer join preserves all features from both datasets\n",
    "\n",
    "```r\n",
    "sf2 <- merge(sf1, dat1, by.x = \"var1\", by.y = \"var2\", all = T)\n",
    "```"
   ]
  },
  {
   "cell_type": "markdown",
   "id": "691d4bb0-874a-49f4-8175-a2581c17f305",
   "metadata": {
    "tags": []
   },
   "source": [
    "<a id=\"Ex1\"></a>\n",
    "### **<span style='color:Green'> Exercise 1: Attribute Data Operations</span>**   \n",
    "\n",
    "Data Source(s): \n",
    "- Groundwater Provinces shapefile found at `./data/MN/gw_prov/gw_provinces_extra.shp`"
   ]
  },
  {
   "cell_type": "markdown",
   "id": "964a5014-e77d-4a43-887d-5d74d104d903",
   "metadata": {},
   "source": [
    "1. Find and plot all groundwater provinces in Minnesota that have var1 equal to \"a\" and var3 greater than 100. "
   ]
  },
  {
   "cell_type": "code",
   "execution_count": null,
   "id": "4cd2f957-4c34-4f56-b110-5d9ac3bd3e8e",
   "metadata": {},
   "outputs": [],
   "source": []
  },
  {
   "cell_type": "markdown",
   "id": "ef4c06a1-a3ce-4877-980f-de586968eb92",
   "metadata": {},
   "source": [
    "<details>\n",
    "    \n",
    "<summary><span style='color:Green'> Click to see answer  </span></summary>\n",
    "\n",
    "```r\n",
    "#read-in shapefile\n",
    "library(sf)\n",
    "gw_prov <- st_read(\"./data/MN/gw_prov\")\n",
    "summary(gw_prov)\n",
    "plot(st_geometry(gw_prov))\n",
    "\n",
    "#subset shapefile using either `[` or `subset()`\n",
    "a100_prov1 <- gw_prov[gw_prov$var1 == \"a\" & gw_prov$var3 > 100, ] #with []\n",
    "a100_prov2 <- subset(gw_prov, var1 == \"a\" & var3 > 100)           #with subset()\n",
    "\n",
    "#plot to verify\n",
    "library(tmap)\n",
    "p1 <- tm_shape(gw_prov) +\n",
    "  tm_polygons(\"var1\")\n",
    "\n",
    "p2 <- tm_shape(gw_prov) +\n",
    "  tm_polygons(\"var3\")\n",
    "\n",
    "p3 <- tm_shape(gw_prov) +\n",
    "  tm_borders() + \n",
    "  tm_shape(a100_prov1) +\n",
    "  tm_polygons(\"var3\")\n",
    "\n",
    "tmap_arrange(p1, p2, p3, nrow = 1)\n",
    "```\n",
    "----\n",
    "          \n",
    "</details>"
   ]
  },
  {
   "cell_type": "markdown",
   "id": "9b730167-0628-4eda-82ed-95e255752db4",
   "metadata": {},
   "source": [
    "2. Run the following code: \n",
    "\n",
    "```r\n",
    "gw_prov_df <- data.frame(provID = as.character(c(seq(1:5),7)), \n",
    "                         var4 = sample(c(\"yes\",\"no\"), size = 6, replace = TRUE), \n",
    "                         var5 = runif(n = 6, min = 10, max = 50))\n",
    "```\n",
    "\n",
    "Add variables from `gw_prov_df` to `gw_prov`, and create a new object called `gw_prov_stats`. \n",
    "What function did you use and why? Which variable is key in both datasets? How many observations\n",
    "are in your new object?"
   ]
  },
  {
   "cell_type": "code",
   "execution_count": null,
   "id": "8ef5c793-6303-4786-9b27-3179200caaa7",
   "metadata": {},
   "outputs": [],
   "source": []
  },
  {
   "cell_type": "markdown",
   "id": "6ef7301b-b10b-4f14-9b2d-a62239213420",
   "metadata": {},
   "source": [
    "<details>\n",
    "    \n",
    "<summary><span style='color:Green'> Click to see answer  </span></summary>\n",
    "\n",
    "```r\n",
    "#inner join\n",
    "gw_prov_statsI <- merge(gw_prov, gw_prov_df, by.x = \"PROVINCE\", by.y = \"provID\", all = F)\n",
    "dim(gw_prov_statsI)[1]\n",
    "tm_shape(gw_prov) +\n",
    "  tm_borders() + \n",
    "  tm_shape(gw_prov_statsI) +\n",
    "  tm_polygons(\"var4\")\n",
    "\n",
    "#left outer join\n",
    "gw_prov_statsL <- merge(gw_prov, gw_prov_df, by.x = \"PROVINCE\", by.y = \"provID\", all.x = T)\n",
    "dim(gw_prov_statsL)[1]\n",
    "tm_shape(gw_prov) +\n",
    "  tm_borders() + \n",
    "  tm_shape(gw_prov_statsL) +\n",
    "  tm_polygons(\"var4\")\n",
    "\n",
    "#right outer join (causes empty geometry)\n",
    "gw_prov_statsR <- merge(gw_prov, gw_prov_df, by.x = \"PROVINCE\", by.y = \"provID\", all.y = T)\n",
    "dim(gw_prov_statsR)[1]\n",
    "tm_shape(gw_prov) +\n",
    "  tm_borders() + \n",
    "  tm_shape(gw_prov_statsR) +\n",
    "  tm_polygons(\"var4\")\n",
    "\n",
    "#outer join (causes empty geometry)\n",
    "gw_prov_statsO <- merge(gw_prov, gw_prov_df, by.x = \"PROVINCE\", by.y = \"provID\", all = T)\n",
    "dim(gw_prov_statsO)[1]\n",
    "tm_shape(gw_prov) +\n",
    "  tm_borders() + \n",
    "  tm_shape(gw_prov_statsO) +\n",
    "  tm_polygons(\"var4\")\n",
    "```\n",
    "----\n",
    "          \n",
    "</details>"
   ]
  },
  {
   "cell_type": "markdown",
   "id": "cc23f691-4ebe-495c-a6eb-16486b763147",
   "metadata": {},
   "source": [
    "3. What is the aggregate var3 by var1? "
   ]
  },
  {
   "cell_type": "code",
   "execution_count": null,
   "id": "da392fdc-a89f-45a9-8d26-d791ce2fd87e",
   "metadata": {},
   "outputs": [],
   "source": []
  },
  {
   "cell_type": "markdown",
   "id": "9dc05160-417a-47d5-b9b4-443026a9139e",
   "metadata": {},
   "source": [
    "<details>\n",
    "    \n",
    "<summary><span style='color:Green'> Click to see answer  </span></summary>\n",
    "\n",
    "```r\n",
    "#sum var3 by var1\n",
    "gw_prov_agg = aggregate(gw_prov[\"var3\"], by = list(gw_prov$var1), FUN = sum, na.rm = TRUE)\n",
    "\n",
    "#plot to verify\n",
    "p1 <- tm_shape(gw_prov) +\n",
    "  tm_polygons(\"var3\")\n",
    "\n",
    "p2 <- tm_shape(gw_prov_agg) +\n",
    "  tm_polygons(\"var3\")\n",
    "\n",
    "tmap_arrange(p1, p2, nrow = 1)\n",
    "```\n",
    "----\n",
    "          \n",
    "</details>"
   ]
  },
  {
   "cell_type": "markdown",
   "id": "a3104b50-19ed-4f18-9b8e-a125a377d16e",
   "metadata": {},
   "source": [
    "<a id=\"Spatial\"></a>\n",
    "## **Spatial Data Operations**\n",
    "\n",
    "Modifying geographic objects based on their location and shape\n",
    "\n",
    "- spatial subset\n",
    "- topological relations\n",
    "- spatial joining\n",
    "- spatial data aggregation\n",
    "\n",
    "\n",
    "### Vector spatial data operations: subset\n",
    "\n",
    "Select features of a spatial object based on whether or not they in some way relate in space to another object\n",
    "\n",
    "The following code chunk first creates an object representing Canterbury, then uses spatial subsetting to return all high points in the region:"
   ]
  },
  {
   "cell_type": "code",
   "execution_count": null,
   "id": "42d23444-a9d5-46c8-a937-14b4111b4bf1",
   "metadata": {},
   "outputs": [],
   "source": [
    "plot(st_geometry(nz))\n",
    "canterbury = nz[nz$Name == \"Canterbury\",]\n",
    "plot(st_geometry(canterbury))"
   ]
  },
  {
   "cell_type": "code",
   "execution_count": null,
   "id": "c4fc2fd2-0628-456a-b0ad-0b0f12a9ec7a",
   "metadata": {},
   "outputs": [],
   "source": [
    "canterbury_height = nz_height[canterbury, ]"
   ]
  },
  {
   "cell_type": "code",
   "execution_count": null,
   "id": "6038bf6e-20d3-4ea7-b9f6-260588d81fff",
   "metadata": {},
   "outputs": [],
   "source": [
    "p_hpnz1 = tm_shape(nz) + tm_polygons(col = \"white\") +\n",
    "  tm_shape(nz_height) + tm_symbols(shape = 2, col = \"red\", size = 0.25) +\n",
    "  tm_layout(main.title = \"High points in New Zealand\", main.title.size = 1,\n",
    "            bg.color = \"lightblue\")\n",
    "p_hpnz2 = tm_shape(nz) + tm_polygons(col = \"white\") +\n",
    "  tm_shape(canterbury) + tm_fill(col = \"gray\") + \n",
    "  tm_shape(canterbury_height) + tm_symbols(shape = 2, col = \"red\", size = 0.25) +\n",
    "  tm_layout(main.title = \"High points in Canterbury\", main.title.size = 1,\n",
    "            bg.color = \"lightblue\")\n",
    "tmap_arrange(p_hpnz1, p_hpnz2, ncol = 2)"
   ]
  },
  {
   "cell_type": "markdown",
   "id": "a00d9dc2-abfa-46b6-a71e-11b0912cd169",
   "metadata": {},
   "source": [
    "### Vector spatial data operations: topology\n",
    "\n",
    "Topological relations describe the spatial relationships between objects\n",
    "\n",
    "<img src=\"./images/topological_rel.png\" width=600 alt=\"Topological\" title=\"Topological Relationships\" />\n",
    "\n",
    "Consider the following figure which contains a polygon (`a`) and some points (`p`)."
   ]
  },
  {
   "cell_type": "code",
   "execution_count": null,
   "id": "b65a3291-3d17-4a5c-86d8-433d8cac5c8f",
   "metadata": {},
   "outputs": [],
   "source": [
    "# create a polygon\n",
    "a_poly <- st_polygon(list(rbind(c(-1, -1), c(1, -1), c(1, 1), c(-1, -1))))\n",
    "a <- st_sfc(a_poly)\n",
    "# create points\n",
    "p_matrix <- matrix(c(0.5, 1, -1, 0, 0, 1, 0.5, 1), ncol = 2)\n",
    "p_multi <- st_multipoint(x = p_matrix)\n",
    "p <- st_cast(st_sfc(p_multi), \"POINT\")\n",
    "\n",
    "par(pty = \"s\")\n",
    "plot(a, border = \"red\", col = \"gray\", axes = TRUE)\n",
    "plot(p, add = TRUE, lab = 1:4, pch = 1)\n",
    "text(p_matrix[, 1] + 0.04, p_matrix[, 2] - 0.06, 1:4, cex = 1.3)"
   ]
  },
  {
   "cell_type": "markdown",
   "id": "bea15eff-ec6c-4d84-b6d4-6ca3a4c430ef",
   "metadata": {},
   "source": [
    "Which of the points in `p` **intersect** in some way with polygon `a`?"
   ]
  },
  {
   "cell_type": "code",
   "execution_count": null,
   "id": "1a7b5363-c911-4139-a30a-2d1539bce3e0",
   "metadata": {},
   "outputs": [],
   "source": [
    "sel <- st_intersects(p, a, sparse = F)\n",
    "sel[,1]"
   ]
  },
  {
   "cell_type": "code",
   "execution_count": null,
   "id": "f8ac7dca-dc33-4a0a-94c6-efae50c48fd2",
   "metadata": {},
   "outputs": [],
   "source": [
    "par(pty = \"s\")\n",
    "plot(a, border = \"red\", col = \"gray\", axes = TRUE)\n",
    "plot(p[-sel[,1]], add = TRUE, lab = 1:4, pch = 1)\n",
    "plot(p[sel[,1]], add = TRUE, pch = 16, col = \"blue\", bg = \"blue\", cex = 1.3)\n",
    "text(p_matrix[, 1] + 0.04, p_matrix[, 2] - 0.06, 1:4, cex = 1.3)"
   ]
  },
  {
   "cell_type": "markdown",
   "id": "4fbfdd29-7b32-4d26-a464-670289244051",
   "metadata": {},
   "source": [
    "Which of the points in `p` are **disjointed** from polygon `a`?"
   ]
  },
  {
   "cell_type": "code",
   "execution_count": null,
   "id": "c2c0b90d-4fc0-4697-8326-73338e6eee4d",
   "metadata": {},
   "outputs": [],
   "source": [
    "sel <- st_disjoint(p, a, sparse = F)\n",
    "sel[,1]"
   ]
  },
  {
   "cell_type": "code",
   "execution_count": null,
   "id": "b9a000f2-996b-489b-a1f9-af140d99ac63",
   "metadata": {},
   "outputs": [],
   "source": [
    "par(pty = \"s\")\n",
    "plot(a, border = \"red\", col = \"gray\", axes = TRUE)\n",
    "plot(p[-sel[,1]], add = TRUE, lab = 1:4, pch = 1)\n",
    "plot(p[sel[,1]], add = TRUE, pch = 16, col = \"blue\", bg = \"blue\", cex = 1.3)\n",
    "text(p_matrix[, 1] + 0.04, p_matrix[, 2] - 0.06, 1:4, cex = 1.3)"
   ]
  },
  {
   "cell_type": "markdown",
   "id": "d718dafe-b147-4909-b044-6e692ba34c5a",
   "metadata": {},
   "source": [
    "Which of the points in `p` are completely **within** polygon `a`?"
   ]
  },
  {
   "cell_type": "code",
   "execution_count": null,
   "id": "7c7db39c-e023-4b9a-8504-9ad0cd5652cc",
   "metadata": {},
   "outputs": [],
   "source": [
    "sel <- st_within(p, a, sparse = F)\n",
    "sel[,1]"
   ]
  },
  {
   "cell_type": "code",
   "execution_count": null,
   "id": "6a43cc49-7f54-4695-b3e7-d5c66870dab5",
   "metadata": {},
   "outputs": [],
   "source": [
    "par(pty = \"s\")\n",
    "plot(a, border = \"red\", col = \"gray\", axes = TRUE)\n",
    "plot(p[-sel[,1]], add = TRUE, lab = 1:4, pch = 1)\n",
    "plot(p[sel[,1]], add = TRUE, pch = 16, col = \"blue\", bg = \"blue\", cex = 1.3)\n",
    "text(p_matrix[, 1] + 0.04, p_matrix[, 2] - 0.06, 1:4, cex = 1.3)"
   ]
  },
  {
   "cell_type": "markdown",
   "id": "70485826-4de1-4e09-9be9-80f958131625",
   "metadata": {},
   "source": [
    "Which of the points in `p` **touch** (the border of) polygon `a`?"
   ]
  },
  {
   "cell_type": "code",
   "execution_count": null,
   "id": "69bb771c-88ff-4ae5-90f8-b02a202dda9a",
   "metadata": {},
   "outputs": [],
   "source": [
    "sel <- st_touches(p, a, sparse = F)\n",
    "sel[,1]"
   ]
  },
  {
   "cell_type": "code",
   "execution_count": null,
   "id": "71c2814b-5be2-48de-be1c-16d6f69d7552",
   "metadata": {},
   "outputs": [],
   "source": [
    "par(pty = \"s\")\n",
    "plot(a, border = \"red\", col = \"gray\", axes = TRUE)\n",
    "plot(p[-sel[,1]], add = TRUE, lab = 1:4, pch = 1)\n",
    "plot(p[sel[,1]], add = TRUE, pch = 16, col = \"blue\", bg = \"blue\", cex = 1.3)\n",
    "text(p_matrix[, 1] + 0.04, p_matrix[, 2] - 0.06, 1:4, cex = 1.3)"
   ]
  },
  {
   "cell_type": "markdown",
   "id": "5097f483-7393-4978-aea8-327c8a0044ac",
   "metadata": {},
   "source": [
    "Which of the points in `p` **almost touch** (the border of) polygon `a`?"
   ]
  },
  {
   "cell_type": "code",
   "execution_count": null,
   "id": "df63c3a7-9859-476a-b0cd-474b8d8a68a7",
   "metadata": {},
   "outputs": [],
   "source": [
    "sel = st_is_within_distance(p, a, dist = 0.9, sparse = F)\n",
    "sel[,1]"
   ]
  },
  {
   "cell_type": "code",
   "execution_count": null,
   "id": "94fd40f9-ba8e-4638-8195-f3a21f0f387a",
   "metadata": {},
   "outputs": [],
   "source": [
    "par(pty = \"s\")\n",
    "plot(a, border = \"red\", col = \"gray\", axes = TRUE)\n",
    "plot(p[sel[,1]], add = TRUE, lab = 1:4, pch = 1)\n",
    "plot(p[sel[,1]], add = TRUE, pch = 16, col = \"blue\", bg = \"blue\", cex = 1.3)\n",
    "text(p_matrix[, 1] + 0.04, p_matrix[, 2] - 0.06, 1:4, cex = 1.3)"
   ]
  },
  {
   "cell_type": "markdown",
   "id": "ae546748-b3aa-46f2-83de-080a3bd78b29",
   "metadata": {},
   "source": [
    "### Vector spatial data operations: spatial join\n",
    "\n",
    "Spatial data joining relies on shared areas of geographic space (*spatial overlay*).\n",
    "Joining adds a new column to the target object (`x`), from a source object (`y`).\n",
    "\n",
    "The following code chunk determines which countries a set of random points are in:\n",
    "\n",
    "(1) Create set of random points within global bounding box"
   ]
  },
  {
   "cell_type": "code",
   "execution_count": null,
   "id": "4d8f4bd7-925a-4291-a910-92f1c91f8015",
   "metadata": {},
   "outputs": [],
   "source": [
    "set.seed(2018) # set seed for reproducibility\n",
    "bb_world = st_bbox(world) # the world's bounds\n",
    "random_df = data.frame(\n",
    "  x = runif(n = 10, min = bb_world[1], max = bb_world[3]),\n",
    "  y = runif(n = 10, min = bb_world[2], max = bb_world[4])\n",
    ")\n",
    "random_points <- st_as_sf(random_df, coords = c(\"x\",\"y\")) # convert to sf object\n",
    "st_crs(random_points) <- 4326  # set geographic CRS\n",
    "\n",
    "random_points"
   ]
  },
  {
   "cell_type": "markdown",
   "id": "cd0a5e8c-8315-462d-b43c-5b71a998d041",
   "metadata": {},
   "source": [
    "(2) Extract countries that intersect with random points (for visualization)"
   ]
  },
  {
   "cell_type": "code",
   "execution_count": null,
   "id": "6a3e4cb2-9c93-4a0f-85f8-9898ce606a65",
   "metadata": {},
   "outputs": [],
   "source": [
    "world_random = world[random_points, ]\n",
    "world_random"
   ]
  },
  {
   "cell_type": "markdown",
   "id": "bada9138-1696-4a8c-92de-7ffcbb55eefa",
   "metadata": {},
   "source": [
    "(3) Join random points and country name attribute from `world`"
   ]
  },
  {
   "cell_type": "code",
   "execution_count": null,
   "id": "0d89f3e3-d6e2-4d35-84dc-cd5ca0a155dd",
   "metadata": {},
   "outputs": [],
   "source": [
    "random_joined = st_join(random_points, world[\"name_long\"])\n",
    "random_joined$name_long = as.character(random_joined$name_long)\n",
    "\n",
    "random_joined"
   ]
  },
  {
   "cell_type": "code",
   "execution_count": null,
   "id": "14747f0c-d21e-4318-81a9-cb0990b82adb",
   "metadata": {},
   "outputs": [],
   "source": [
    "jm0 = tm_shape(world) + tm_borders(lwd = 0.2) + tm_format(\"World\")\n",
    "\n",
    "jm1 = jm0 +\n",
    "  tm_shape(shp = random_points, bbox = bb_world) +\n",
    "  tm_symbols(col = \"black\", shape = 4, border.lwd = 2) +\n",
    "  tm_layout(scale = 1, legend.bg.color = \"white\", legend.bg.alpha = 0.3, legend.position = c(\"right\", \"bottom\"))\n",
    "\n",
    "jm2 = jm0 +\n",
    "  tm_shape(world_random, bbox = bb_world) +\n",
    "  tm_fill(col = \"name_long\", palette = \"Dark2\") +\n",
    "  tm_layout(legend.show = FALSE)\n",
    "\n",
    "jm3 = jm0 +\n",
    "  tm_shape(shp = random_joined, bbox = bb_world) +\n",
    "  tm_symbols(col = \"name_long\", shape = 4, border.lwd = 2, palette = \"Dark2\") +\n",
    "  tm_layout(legend.show = FALSE)\n",
    "\n",
    "jm4 = jm0 +\n",
    "  tm_shape(shp = random_joined, bbox = bb_world) +\n",
    "  tm_symbols(col = \"name_long\", shape = 4, border.lwd = 2, palette = \"Dark2\") +\n",
    "  tm_layout(legend.only = TRUE)\n",
    "\n",
    "tmap_arrange(jm1, jm2, jm3, jm4, nrow = 2)"
   ]
  },
  {
   "cell_type": "markdown",
   "id": "5297f8fa-dcc5-4946-9914-61e21c1d8f51",
   "metadata": {},
   "source": [
    "### Vector spatial data operations: spatial aggregation\n",
    "\n",
    "Similar to aggregation by attribute, but instead use the geometry of the source to \n",
    "define how values in the target object are grouped\n",
    "\n",
    "The following code chunk calculates the average height of high points in each New Zealand region:"
   ]
  },
  {
   "cell_type": "code",
   "execution_count": null,
   "id": "28494521-a846-4a54-933b-ab40aa4d9c56",
   "metadata": {},
   "outputs": [],
   "source": [
    "nz_avheight = aggregate(x = nz_height, by = nz, FUN = mean)"
   ]
  },
  {
   "cell_type": "code",
   "execution_count": null,
   "id": "ab0b31a8-7581-47f8-8895-e25125861058",
   "metadata": {},
   "outputs": [],
   "source": [
    "p1 <- tm_shape(nz) +\n",
    "  tm_polygons()\n",
    "\n",
    "p2 <- tm_shape(nz) + \n",
    "  tm_polygons(alpha = 0.2) +\n",
    "  tm_shape(nz_height) + \n",
    "  tm_dots(col = \"elevation\", size = 0.25, n = 5, alpha = 0.7)\n",
    "\n",
    "p3 <- tm_shape(nz_avheight) +\n",
    "  tm_fill(\"elevation\", breaks = seq(27, 29, by = 0.5) * 1e2) +\n",
    "  tm_borders()\n",
    "tmap_arrange(p1, p2, p3)"
   ]
  },
  {
   "cell_type": "markdown",
   "id": "3eb57b54-c5c8-4b59-bcd5-d6d65aec6aac",
   "metadata": {},
   "source": [
    "<summary><span style='color:Green'> Reminder: Spatial aggregations use two different spatial objects, while attribute aggregations use two (or more) attributes within a single spatial object.  </span></summary>"
   ]
  },
  {
   "cell_type": "code",
   "execution_count": null,
   "id": "0c8efda9-4760-4772-b813-8e8c7131b863",
   "metadata": {},
   "outputs": [],
   "source": [
    "nz_popisl = aggregate(x = nz[\"Population\"], by = list(nz$Island), FUN = sum, na.rm = TRUE)\n",
    "nz_popisl"
   ]
  },
  {
   "cell_type": "code",
   "execution_count": null,
   "id": "d9f0e56a-f77a-4c63-be01-2cae401df198",
   "metadata": {},
   "outputs": [],
   "source": [
    "p1 <- tm_shape(nz) + \n",
    "  tm_polygons(\"Population\")\n",
    "\n",
    "p2 <- tm_shape(nz_popisl) +\n",
    "  tm_polygons(\"Population\")\n",
    "tmap_arrange(p1, p2)"
   ]
  },
  {
   "cell_type": "markdown",
   "id": "3baba1b0-518d-435a-baf4-a303964d31aa",
   "metadata": {
    "tags": []
   },
   "source": [
    "<a id=\"Ex2\"></a>\n",
    "### **<span style='color:Green'> Exercise 2: Spatial Data Operations</span>**   \n",
    "\n",
    "Data Source(s): \n",
    "- Groundwater Provinces shapefile found at `.data/gw_prov/gw_provinces_extra.shp`\n",
    "- Minnesota rivers shapefile found at `.data/stream_routes/mn_rivers.shp`\n",
    "- Soil temp stations shapefile found at `.data/soil_temp/soil_temp.shp`"
   ]
  },
  {
   "cell_type": "markdown",
   "id": "fd7a2748-45f0-4161-ba8c-0acb9f48a6cc",
   "metadata": {},
   "source": [
    "1. Find and plot all the rivers found in groundwater province 5"
   ]
  },
  {
   "cell_type": "code",
   "execution_count": null,
   "id": "4c9d30fc-25b0-4b37-acd6-29f494154737",
   "metadata": {},
   "outputs": [],
   "source": []
  },
  {
   "cell_type": "markdown",
   "id": "96b66b1b-1063-4ddb-9182-c3be6d08b3d3",
   "metadata": {},
   "source": [
    "<details>\n",
    "    \n",
    "<summary><span style='color:Green'> Click to see answer  </span></summary>\n",
    "\n",
    "```r\n",
    "#read-in shapefiles\n",
    "library(sf)\n",
    "gw_prov <- st_read(\"./data/MN/gw_prov\")\n",
    "mn_river <- st_read(\"./data/MN/stream_routes\")\n",
    "soil_samp <- st_read(\"./data/MN/soil_samp\")\n",
    "\n",
    "#extract province 5 polygon(s)\n",
    "prov5 <- gw_prov[gw_prov$PROVINCE == \"5\", ]\n",
    "\n",
    "#subset rivers in province 5\n",
    "prov5_river <- mn_river[prov5, ]\n",
    "\n",
    "#plot to verify\n",
    "tm_shape(gw_prov) +\n",
    "  tm_borders() +\n",
    "  tm_shape(prov5) +\n",
    "  tm_polygons() + \n",
    "  tm_shape(prov5_river) +\n",
    "  tm_lines(\"blue\")\n",
    "```\n",
    "----\n",
    "          \n",
    "</details>"
   ]
  },
  {
   "cell_type": "markdown",
   "id": "06809eec-7e2a-4960-bce7-3b9d47fc30ee",
   "metadata": {},
   "source": [
    "2. Which groundwater province does the Lamberton (soil sample) MDA weather station sit in?"
   ]
  },
  {
   "cell_type": "code",
   "execution_count": null,
   "id": "b08fb993-9ef6-43dd-8692-5e721d015ea7",
   "metadata": {},
   "outputs": [],
   "source": []
  },
  {
   "cell_type": "markdown",
   "id": "e0bfc186-9e65-400d-940d-c3fc5da5742b",
   "metadata": {},
   "source": [
    "<details>\n",
    "    \n",
    "<summary><span style='color:Green'> Click to see answer  </span></summary>\n",
    "\n",
    "```r\n",
    "#extract Lamberton point\n",
    "mda_lamb <- soil_samp[soil_samp$name == \"Lamberton\", ]\n",
    "\n",
    "#subset to province with lamberton in it\n",
    "gw_prov_stns <- gw_prov[mda_lamb, ]\n",
    "\n",
    "#plot to verify\n",
    "tm_shape(gw_prov) + \n",
    "  tm_borders() + \n",
    "  tm_shape(gw_prov_stns) + \n",
    "  tm_polygons() + \n",
    "  tm_shape(mda_lamb) + \n",
    "  tm_dots(\"blue\", size = 0.1)\n",
    "\n",
    "#name of station\n",
    "gw_prov_stns$PROVINCE\n",
    "```\n",
    "----\n",
    "          \n",
    "</details>"
   ]
  },
  {
   "cell_type": "markdown",
   "id": "732c1dca-e4f1-4ae2-838c-23800a85a918",
   "metadata": {},
   "source": [
    "3. Find all the weather stations (soil sample sites) that are within 10 km of the Mississippi river."
   ]
  },
  {
   "cell_type": "code",
   "execution_count": null,
   "id": "9a0e0db7-bf23-4786-911f-afc047a29f4a",
   "metadata": {},
   "outputs": [],
   "source": []
  },
  {
   "cell_type": "markdown",
   "id": "78467d46-0191-4896-9aa1-0c6017096490",
   "metadata": {},
   "source": [
    "<details>\n",
    "    \n",
    "<summary><span style='color:Green'> Click to see answer  </span></summary>\n",
    "\n",
    "```r\n",
    "#extract Mississippi River line\n",
    "miss <- mn_river[mn_river$KITTLE_NAM == \"Mississippi River\", ]\n",
    "\n",
    "#find soil_samp points within 10000 meter distance of miss object\n",
    "#subset to only these points\n",
    "miss_stns <- soil_samp[st_is_within_distance(soil_samp, miss, dist = 10000, sparse = FALSE),]\n",
    "\n",
    "#plot to verify\n",
    "tm_shape(gw_prov) + \n",
    "  tm_borders() + \n",
    "  tm_shape(miss) + \n",
    "  tm_lines(\"red\") + \n",
    "  tm_shape(miss_stns) + \n",
    "  tm_dots(\"blue\", size = 0.1)\n",
    "```\n",
    "----\n",
    "          \n",
    "</details>"
   ]
  },
  {
   "cell_type": "markdown",
   "id": "4b5179d3-04de-4ada-ba62-e2b3c4c2ed5d",
   "metadata": {},
   "source": [
    "<a id=\"Geometry\"></a>\n",
    "## **Geometry Operations**\n",
    "\n",
    "Modifying geographic objects based on their geometry\n",
    "\n",
    "- centroids\n",
    "- buffer\n",
    "- clipping\n",
    "- geometry unions\n",
    "\n",
    "### Vector geometry operations: centroids\n",
    "\n",
    "Centroid operations identify the center of geographic objects.\n",
    "\n",
    "The most commonly used centroid operation is the *geographic centroid*, which represents the center of mass in a spatial object (think of balancing a plate on your finger)\n",
    "\n",
    "The following code chunk calculates the centroid of the New Zealand regions and Seine tributaries"
   ]
  },
  {
   "cell_type": "code",
   "execution_count": null,
   "id": "ee6bcdeb-8ef5-4e1f-ae51-687cd90405e4",
   "metadata": {},
   "outputs": [],
   "source": [
    "nz_centroid = st_centroid(nz)\n",
    "seine_centroid = st_centroid(seine)"
   ]
  },
  {
   "cell_type": "code",
   "execution_count": null,
   "id": "fc7868bf-dc9f-4b40-974d-9bc1e207640e",
   "metadata": {},
   "outputs": [],
   "source": [
    "p_nz_cent = tm_shape(nz) + tm_polygons(\"Name\") + \n",
    "  tm_shape(nz_centroid) + tm_bubbles(\"Name\", size = 0.2) +\n",
    "  tm_layout(main.title = \"New Zealand Region Centroids\", legend.show = FALSE)\n",
    "p_seine_cent = tm_shape(seine) + tm_lines(\"name\") +\n",
    "  tm_shape(seine_centroid) + tm_bubbles(\"name\", size = 0.2) +\n",
    "  tm_layout(main.title = \"Seine Tributary Centroids\", legend.show = FALSE)\n",
    "tmap_arrange(p_nz_cent, p_seine_cent, ncol = 2)"
   ]
  },
  {
   "cell_type": "markdown",
   "id": "ffc3a2bb-247e-405b-b25a-fe0aaa083665",
   "metadata": {},
   "source": [
    "### Vector geometry operations: buffer\n",
    "\n",
    "Buffers are polygons representing the area within a given distance of a geometric feature:\n",
    "regardless of whether the input is a point, line or polygon, the output is a polygon.\n",
    "\n",
    "The following chunk calculates buffers around the New Zealand regions and Seine tributaries"
   ]
  },
  {
   "cell_type": "code",
   "execution_count": null,
   "id": "3b684e8e-b18e-41e6-a678-c97ca7df4e95",
   "metadata": {},
   "outputs": [],
   "source": [
    "nz_buff = st_buffer(nz, dist = 50000)\n",
    "seine_buff = st_buffer(seine, dist = 5000)"
   ]
  },
  {
   "cell_type": "code",
   "execution_count": null,
   "id": "24d62de5-d315-4f8e-aedc-7822263171d2",
   "metadata": {},
   "outputs": [],
   "source": [
    "p_buffs1 = tm_shape(nz_buff) + tm_polygons(col = \"Name\") +\n",
    "  tm_shape(nz) + tm_borders() +\n",
    "  tm_layout(main.title = \"New Zealand Region: 50km Buffer\", legend.show = FALSE)\n",
    "p_buffs2 = tm_shape(seine_buff) + tm_polygons(col = \"name\") +\n",
    "  tm_shape(seine) + tm_lines() +\n",
    "  tm_layout(main.title = \"Seine Tributaries: 5km Buffer\", legend.show = FALSE)\n",
    "tmap_arrange(p_buffs1, p_buffs2, ncol = 2)"
   ]
  },
  {
   "cell_type": "markdown",
   "id": "28e2fb6a-664c-44f5-8c73-28104b4c889b",
   "metadata": {},
   "source": [
    "### Vector geometry operations: clipping\n",
    "\n",
    "Spatial clipping involves changes to the geometry columns of at least some of the affected features\n",
    "\n",
    "The following figure demonstrates how this works for all combinations of the 'Venn' diagram representing object `x` and object `y`."
   ]
  },
  {
   "cell_type": "code",
   "execution_count": null,
   "id": "79059368-d052-4a7d-bf44-2becc6b6c803",
   "metadata": {},
   "outputs": [],
   "source": [
    "if(!exists(\"b\")) {\n",
    "  b = st_sfc(st_point(c(0, 1)), st_point(c(1, 1))) # create 2 points\n",
    "  b = st_buffer(b, dist = 1) # convert points to circles\n",
    "  l = c(\"x\", \"y\")\n",
    "  x = b[1]\n",
    "  y = b[2]\n",
    "  x_and_y = st_intersection(x, y)\n",
    "}\n",
    "\n",
    "old_par = par(mfrow = c(3, 3), mai = c(0.1, 0.1, 0.1, 0.1))\n",
    "plot(b)\n",
    "y_not_x = st_difference(y, x)\n",
    "plot(y_not_x, col = \"grey\", add = TRUE)\n",
    "text(x = 0.5, y = 1, \"st_difference(y, x)\")\n",
    "plot(b)\n",
    "plot(x, add = TRUE, col = \"grey\")\n",
    "text(x = 0.5, y = 1, \"x\")\n",
    "plot(b, add = TRUE)\n",
    "x_or_y = st_union(x, y)\n",
    "plot(x_or_y, col = \"grey\")\n",
    "text(x = 0.5, y = 1, \"st_union(x, y)\")\n",
    "x_and_y = st_intersection(x, y)\n",
    "plot(b)\n",
    "plot(x_and_y, col = \"grey\", add = TRUE) \n",
    "text(x = 0.5, y = 1, \"st_intersection(x, y)\")\n",
    "# x_xor_y = st_difference(x_xor_y, x_and_y) # failing\n",
    "x_not_y = st_difference(x, y)\n",
    "x_xor_y = st_sym_difference(x, y)\n",
    "plot(x_xor_y, col = \"grey\")\n",
    "text(x = 0.5, y = 1, \"st_sym_difference(x, y)\")\n",
    "plot.new()\n",
    "plot(b)\n",
    "plot(x_not_y, col = \"grey\", add = TRUE)\n",
    "text(x = 0.5, y = 1, \"st_difference(x, y)\")\n",
    "plot(b)\n",
    "plot(y, col = \"grey\", add = TRUE)\n",
    "plot(b, add = TRUE)\n",
    "text(x = 0.5, y = 1, \"y\")\n",
    "par(old_par)"
   ]
  },
  {
   "cell_type": "markdown",
   "id": "a6b48bda-45e5-4a96-88cd-e0267cafb5ca",
   "metadata": {},
   "source": [
    "### Vector geometry operations: unions\n",
    "\n",
    "Spatial unions silently dissolve the geometries of touching polygons in the same group\n",
    "\n",
    "Remember our aggregation of the number of people per continent based on country-level data:"
   ]
  },
  {
   "cell_type": "code",
   "execution_count": null,
   "id": "d6d2531a-07a9-4b31-960f-0bb54c9b90c8",
   "metadata": {},
   "outputs": [],
   "source": [
    "world_agg = aggregate(world[\"pop\"], by = list(world$continent),\n",
    "                       FUN = sum, na.rm = TRUE)"
   ]
  },
  {
   "cell_type": "code",
   "execution_count": null,
   "id": "1a7de282-0827-4045-a1a9-46a79325799c",
   "metadata": {},
   "outputs": [],
   "source": [
    "p_pop1 = tm_shape(world) + tm_polygons(col = \"pop\", title = \"Population\", style = \"jenks\") +\n",
    "  tm_layout(main.title = \"Population by Country\", main.title.size = 1,\n",
    "            bg.color = \"lightblue\")\n",
    "p_pop2 = tm_shape(world_agg) + tm_polygons(col = \"pop\", title = \"Population\", style = \"jenks\") +\n",
    "  tm_layout(main.title = \"Population by Continent\", main.title.size = 1,\n",
    "            bg.color = \"lightblue\")\n",
    "tmap_arrange(p_pop1, p_pop2, ncol = 1)"
   ]
  },
  {
   "cell_type": "markdown",
   "id": "ae3ba2b4-1387-4da9-b539-a4619660e851",
   "metadata": {
    "tags": []
   },
   "source": [
    "<a id=\"Ex3\"></a>\n",
    "### **<span style='color:Green'> Exercise 3: Geometry Data Operations</span>**   \n",
    "\n",
    "Data Source(s): \n",
    "- Groundwater Provinces shapefile found at `.data/gw_prov/gw_provinces_extra.shp`\n",
    "- Minnesota rivers shapefile found at `.data/stream_routes/mn_rivers.shp`"
   ]
  },
  {
   "cell_type": "markdown",
   "id": "6245f26d-fae6-4c9b-8205-1eb3da3115ab",
   "metadata": {},
   "source": [
    "1. Find the centroid of the Mississippi River"
   ]
  },
  {
   "cell_type": "code",
   "execution_count": null,
   "id": "875cc91e-1e43-451d-8bd0-b83e52895c0b",
   "metadata": {},
   "outputs": [],
   "source": []
  },
  {
   "cell_type": "markdown",
   "id": "f1f98710-ad73-4b9e-a6c7-d128dc2883e3",
   "metadata": {},
   "source": [
    "<details>\n",
    "    \n",
    "<summary><span style='color:Green'> Click to see answer  </span></summary>\n",
    "\n",
    "```r\n",
    "#read-in shapefiles\n",
    "library(sf)\n",
    "gw_prov <- st_read(\"./data/MN/gw_prov\")\n",
    "mn_river <- st_read(\"./data/MN/stream_routes\")\n",
    "\n",
    "#extract Mississippi River\n",
    "miss <- mn_river[mn_river$KITTLE_NAM == \"Mississippi River\", ]\n",
    "\n",
    "#calculate centroid\n",
    "miss_centroid <- st_centroid(miss)\n",
    "\n",
    "#plot to verify\n",
    "tm_shape(miss) + \n",
    "  tm_lines(\"blue\") + \n",
    "  tm_shape(miss_centroid) +\n",
    "  tm_dots(\"red\", size = 0.1)\n",
    "```\n",
    "----\n",
    "          \n",
    "</details>"
   ]
  },
  {
   "cell_type": "markdown",
   "id": "32e444cf-c772-46fd-bc12-9075f0c27f5d",
   "metadata": {},
   "source": [
    "2. Create a 10km buffer around the Mississippi River"
   ]
  },
  {
   "cell_type": "code",
   "execution_count": null,
   "id": "63fcbb39-a3a2-41b8-9697-288e40144f5b",
   "metadata": {},
   "outputs": [],
   "source": []
  },
  {
   "cell_type": "markdown",
   "id": "d2f5a7cc-22cb-4817-afd1-aaf2eb9abf07",
   "metadata": {},
   "source": [
    "<details>\n",
    "    \n",
    "<summary><span style='color:Green'> Click to see answer  </span></summary>\n",
    "\n",
    "```r\n",
    "#create buffer at 10000 meters\n",
    "miss_buff <- st_buffer(miss, dist = 10000)\n",
    "\n",
    "#plot to verify\n",
    "tm_shape(miss_buff) +\n",
    "  tm_polygons() + \n",
    "  tm_shape(miss) + \n",
    "  tm_lines(\"blue\")\n",
    "```\n",
    "----\n",
    "          \n",
    "</details>"
   ]
  },
  {
   "cell_type": "markdown",
   "id": "f66aa152-3eed-4cb1-bcb4-942e0125bfa3",
   "metadata": {},
   "source": [
    "3. Find and plot the segments of the Mississippi river that run through groundwater province 5"
   ]
  },
  {
   "cell_type": "code",
   "execution_count": null,
   "id": "bb652a42-8648-4b2b-a325-69c3ca8886c6",
   "metadata": {},
   "outputs": [],
   "source": []
  },
  {
   "cell_type": "markdown",
   "id": "9fdff3f8-90e2-46a0-879d-c70a468f2d9d",
   "metadata": {},
   "source": [
    "<details>\n",
    "    \n",
    "<summary><span style='color:Green'> Click to see answer  </span></summary>\n",
    "\n",
    "```r\n",
    "#find the intersections between province boundaries and mississippi line\n",
    "miss_prov <- st_intersection(gw_prov, miss)\n",
    "\n",
    "#extract province 1 polygon(s)\n",
    "miss_prov1 <- miss_prov[miss_prov$PROVINCE == \"1\", ]\n",
    "\n",
    "#plot to verify\n",
    "tm_shape(gw_prov) + \n",
    "  tm_borders() + \n",
    "  tm_shape(miss_prov1) + \n",
    "  tm_lines(\"blue\")\n",
    "```\n",
    "----\n",
    "          \n",
    "</details>"
   ]
  }
 ],
 "metadata": {
  "kernelspec": {
   "display_name": "R",
   "language": "R",
   "name": "ir"
  },
  "language_info": {
   "codemirror_mode": "r",
   "file_extension": ".r",
   "mimetype": "text/x-r-source",
   "name": "R",
   "pygments_lexer": "r",
   "version": "4.1.2"
  }
 },
 "nbformat": 4,
 "nbformat_minor": 5
}
